{
 "cells": [
  {
   "cell_type": "code",
   "execution_count": 3,
   "id": "38866822",
   "metadata": {},
   "outputs": [],
   "source": [
    "import csv\n",
    "import sys\n",
    "import numpy as np\n",
    "import time\n",
    "import pickle\n",
    "import argparse\n",
    "from sklearn.ensemble import ExtraTreesClassifier"
   ]
  },
  {
   "cell_type": "code",
   "execution_count": 6,
   "id": "61476b23",
   "metadata": {},
   "outputs": [],
   "source": [
    "def load_data(path_name, n_rows, n_cols):\n",
    "\n",
    "    count = 0\n",
    "    X = np.zeros((n_rows, n_cols), dtype=np.float)\n",
    "    y = np.zeros(n_rows, dtype=np.uint8)\n",
    "    pai_id = np.zeros(n_rows, dtype=np.uint8)\n",
    "\n",
    "    with open(path_name, 'r') as csvfile:\n",
    "        reader = csv.reader(csvfile, delimiter=',')\n",
    "        for row in reader:\n",
    "            x = np.fromstring(row[0], dtype=np.float, sep=' ')\n",
    "            X[count] = x\n",
    "            y[count] = int(row[1])\n",
    "            pai_id[count] = int(row[2])\n",
    "            count += 1\n",
    "            if count >= N_ROWS:\n",
    "                break\n",
    "\n",
    "    return X, y, pai_id"
   ]
  },
  {
   "cell_type": "code",
   "execution_count": 10,
   "id": "69487399",
   "metadata": {},
   "outputs": [
    {
     "ename": "TypeError",
     "evalue": "int() argument must be a string, a bytes-like object or a number, not 'NoneType'",
     "output_type": "error",
     "traceback": [
      "\u001b[1;31m---------------------------------------------------------------------------\u001b[0m",
      "\u001b[1;31mTypeError\u001b[0m                                 Traceback (most recent call last)",
      "\u001b[1;32m<ipython-input-10-fd3a90bc3381>\u001b[0m in \u001b[0;36m<module>\u001b[1;34m\u001b[0m\n\u001b[0;32m      9\u001b[0m     \u001b[0margs\u001b[0m \u001b[1;33m=\u001b[0m \u001b[0mvars\u001b[0m\u001b[1;33m(\u001b[0m\u001b[0map\u001b[0m\u001b[1;33m.\u001b[0m\u001b[0mparse_args\u001b[0m\u001b[1;33m(\u001b[0m\u001b[1;33m)\u001b[0m\u001b[1;33m)\u001b[0m\u001b[1;33m\u001b[0m\u001b[0m\n\u001b[0;32m     10\u001b[0m \u001b[1;33m\u001b[0m\u001b[0m\n\u001b[1;32m---> 11\u001b[1;33m     \u001b[0mN_ROWS\u001b[0m \u001b[1;33m=\u001b[0m \u001b[0mint\u001b[0m\u001b[1;33m(\u001b[0m\u001b[0margs\u001b[0m\u001b[1;33m[\u001b[0m\u001b[1;34m\"rows\"\u001b[0m\u001b[1;33m]\u001b[0m\u001b[1;33m)\u001b[0m  \u001b[1;31m# Total number of rows in csv file\u001b[0m\u001b[1;33m\u001b[0m\u001b[0m\n\u001b[0m\u001b[0;32m     12\u001b[0m     \u001b[0mN_COLS\u001b[0m \u001b[1;33m=\u001b[0m \u001b[0mint\u001b[0m\u001b[1;33m(\u001b[0m\u001b[0margs\u001b[0m\u001b[1;33m[\u001b[0m\u001b[1;34m\"cols\"\u001b[0m\u001b[1;33m]\u001b[0m\u001b[1;33m)\u001b[0m  \u001b[1;31m# Dimension of the Feature Vector\u001b[0m\u001b[1;33m\u001b[0m\u001b[0m\n\u001b[0;32m     13\u001b[0m     \u001b[0mtraining_file\u001b[0m \u001b[1;33m=\u001b[0m \u001b[0margs\u001b[0m\u001b[1;33m[\u001b[0m\u001b[1;34m\"csv_file_to_train\"\u001b[0m\u001b[1;33m]\u001b[0m  \u001b[1;31m# Input csv file with the training data\u001b[0m\u001b[1;33m\u001b[0m\u001b[0m\n",
      "\u001b[1;31mTypeError\u001b[0m: int() argument must be a string, a bytes-like object or a number, not 'NoneType'"
     ]
    }
   ],
   "source": [
    "if __name__ == \"__main__\":\n",
    "\n",
    "    ap = argparse.ArgumentParser()\n",
    "    ap.add_argument(\"-n\", \"--name\", required=True, help=\"name of trained model\")\n",
    "    ap.add_argument(\"-i\", \"--csv_file_to_train\", required=True, help=\"input csv file to train the classifier\")\n",
    "    ap.add_argument(\"-f\", \"--folder_to_store_classifier\", required=True, help=\"directory to store the trained classifier\")\n",
    "    ap.add_argument(\"-r\", \"--rows\", required=True, help=\"total number of rows in the csv file\")\n",
    "    ap.add_argument(\"-c\", \"--cols\", required=True, help=\"dimension of the feature vector\")\n",
    "    args = vars(ap.parse_args())\n",
    "\n",
    "    N_ROWS = int(args[\"rows\"])  # Total number of rows in csv file\n",
    "    N_COLS = int(args[\"cols\"])  # Dimension of the Feature Vector\n",
    "    training_file = args[\"csv_file_to_train\"]  # Input csv file with the training data\n",
    "    output_folder = args[\"folder_to_store_classifier\"]  # Directory to store the trained classifier"
   ]
  },
  {
   "cell_type": "code",
   "execution_count": null,
   "id": "b3d8f491",
   "metadata": {},
   "outputs": [],
   "source": []
  }
 ],
 "metadata": {
  "kernelspec": {
   "display_name": "python365env",
   "language": "python",
   "name": "python365env"
  },
  "language_info": {
   "codemirror_mode": {
    "name": "ipython",
    "version": 3
   },
   "file_extension": ".py",
   "mimetype": "text/x-python",
   "name": "python",
   "nbconvert_exporter": "python",
   "pygments_lexer": "ipython3",
   "version": "3.6.5"
  }
 },
 "nbformat": 4,
 "nbformat_minor": 5
}
